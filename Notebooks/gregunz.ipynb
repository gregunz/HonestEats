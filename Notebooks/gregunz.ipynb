{
 "cells": [
  {
   "cell_type": "code",
   "execution_count": 1,
   "metadata": {},
   "outputs": [],
   "source": [
    "import json\n",
    "from tqdm import tqdm_notebook as tqdm\n",
    "import matplotlib.pyplot as plt\n",
    "import numpy as np\n",
    "from sklearn.manifold import TSNE\n",
    "import inflect\n",
    "import time\n",
    "import gensim\n",
    "import random\n",
    "import pandas as pd\n",
    "import pickle\n",
    "import pycountry_convert as pyc\n",
    "\n",
    "engine = inflect.engine()"
   ]
  },
  {
   "cell_type": "code",
   "execution_count": 2,
   "metadata": {},
   "outputs": [
    {
     "data": {
      "text/plain": [
       "['romaine lettuce',\n",
       " 'garlic',\n",
       " 'pepper',\n",
       " 'taco seasoning',\n",
       " 'garbanzo bean',\n",
       " 'feta']"
      ]
     },
     "execution_count": 2,
     "metadata": {},
     "output_type": "execute_result"
    }
   ],
   "source": [
    "recipes = json.load(open('../resources/all_recipes_repr.json'))\n",
    "recipes[0]"
   ]
  },
  {
   "cell_type": "code",
   "execution_count": 3,
   "metadata": {},
   "outputs": [
    {
     "data": {
      "text/plain": [
       "1521"
      ]
     },
     "execution_count": 3,
     "metadata": {},
     "output_type": "execute_result"
    }
   ],
   "source": [
    "ingredients = {i for r in recipes for i in r}\n",
    "len(ingredients)"
   ]
  },
  {
   "cell_type": "raw",
   "metadata": {},
   "source": [
    "rec_set = list(set([frozenset(r) for r in recipes]))\n",
    "rec_set[0]"
   ]
  },
  {
   "cell_type": "raw",
   "metadata": {},
   "source": [
    "rec_one_dif_pairs = []\n",
    "i = 0\n",
    "for r1 in tqdm(rec_set):\n",
    "    i += 1\n",
    "    for r2 in rec_set[i:]:\n",
    "        if len(r1) > 5 and len(r1) == len(r2):\n",
    "            dif = r1.symmetric_difference(r2)\n",
    "            if len(dif) == 2:\n",
    "                dif = list(dif)\n",
    "                print('\"{}\" <-> \"{}\"'.format(dif[0], dif[1]))\n",
    "                print(r1,r2)\n",
    "                #rec_one_dif_pairs.append((r1,r2))"
   ]
  },
  {
   "cell_type": "code",
   "execution_count": 4,
   "metadata": {},
   "outputs": [
    {
     "data": {
      "text/plain": [
       "(2425275, 11)"
      ]
     },
     "execution_count": 4,
     "metadata": {},
     "output_type": "execute_result"
    }
   ],
   "source": [
    "data = pd.read_csv('../resources/fao_norm.csv', sep=',', encoding = \"ISO-8859-1\")\n",
    "data.shape"
   ]
  },
  {
   "cell_type": "code",
   "execution_count": 5,
   "metadata": {},
   "outputs": [
    {
     "data": {
      "text/plain": [
       "(['Afghanistan', 'Africa', 'Albania', 'Algeria', 'American Samoa'], 258)"
      ]
     },
     "execution_count": 5,
     "metadata": {},
     "output_type": "execute_result"
    }
   ],
   "source": [
    "countries = sorted(list(set(data['Area'].values)))\n",
    "countries[:5], len(countries)"
   ]
  },
  {
   "cell_type": "code",
   "execution_count": 6,
   "metadata": {},
   "outputs": [],
   "source": [
    "def ref(ing) :\n",
    "    matches = []\n",
    "    for i in ingredients :\n",
    "        if i in ing :\n",
    "            matches.append(i)\n",
    "    return matches;"
   ]
  },
  {
   "cell_type": "code",
   "execution_count": 7,
   "metadata": {},
   "outputs": [],
   "source": [
    "import os"
   ]
  },
  {
   "cell_type": "code",
   "execution_count": 8,
   "metadata": {},
   "outputs": [],
   "source": [
    "fname = '../resources/countries_to_ing.p'\n",
    "if os.path.isfile(fname):\n",
    "    countries_to_ing = pickle.load(open(fname, 'rb'))\n",
    "else:\n",
    "    countries_to_ing = dict()\n",
    "    for c in tqdm(countries):\n",
    "        c_data = data[data['Area']==c]\n",
    "        c_ing = set(c_data['Item'].values)\n",
    "        c_ing = {i.lower() for i in c_ing}\n",
    "        c_ing_ref = {i_ for i in c_ing for i_ in ref(i)}\n",
    "        c_ing_ref = {i for i in ingredients for s_i in c_ing_ref if s_i in i}\n",
    "        countries_to_ing[c] = sorted(list(c_ing_ref))\n",
    "        pickle.dump(countries_to_ing, pickle.load(open(fname, 'wb')))"
   ]
  },
  {
   "cell_type": "code",
   "execution_count": 9,
   "metadata": {},
   "outputs": [
    {
     "data": {
      "application/vnd.jupyter.widget-view+json": {
       "model_id": "6c07b6838dfa412fb02846daf484aea2",
       "version_major": 2,
       "version_minor": 0
      },
      "text/plain": [
       "HBox(children=(IntProgress(value=0, max=1521), HTML(value='')))"
      ]
     },
     "metadata": {},
     "output_type": "display_data"
    },
    {
     "name": "stdout",
     "output_type": "stream",
     "text": [
      "\n"
     ]
    }
   ],
   "source": [
    "c_all_ing = {i for _, ings in countries_to_ing.items() for i in ings}\n",
    "ing_to_country = {i:[c for c in countries if i in countries_to_ing[c]] for i in tqdm(ingredients)}\n",
    "pickle.dump(ing_to_country, open('ing_to_country', 'wb'))"
   ]
  },
  {
   "cell_type": "code",
   "execution_count": 10,
   "metadata": {},
   "outputs": [],
   "source": [
    "ing_to_country = pickle.load(open('ing_to_country', 'rb'))\n",
    "def locality_score_bin(i, c='Switzerland'):\n",
    "    return c in ing_to_country[i]"
   ]
  },
  {
   "cell_type": "code",
   "execution_count": 13,
   "metadata": {},
   "outputs": [
    {
     "data": {
      "text/plain": [
       "True"
      ]
     },
     "execution_count": 13,
     "metadata": {},
     "output_type": "execute_result"
    }
   ],
   "source": [
    "locality_score_bin('potato', 'Switzerland')"
   ]
  },
  {
   "cell_type": "code",
   "execution_count": 14,
   "metadata": {},
   "outputs": [],
   "source": [
    "country = 'Switzerland'"
   ]
  },
  {
   "cell_type": "code",
   "execution_count": 15,
   "metadata": {},
   "outputs": [
    {
     "data": {
      "text/plain": [
       "544"
      ]
     },
     "execution_count": 15,
     "metadata": {},
     "output_type": "execute_result"
    }
   ],
   "source": [
    "c_ing = countries_to_ing[country]\n",
    "len(c_ing)"
   ]
  },
  {
   "cell_type": "code",
   "execution_count": 16,
   "metadata": {},
   "outputs": [
    {
     "data": {
      "text/html": [
       "<div>\n",
       "<style scoped>\n",
       "    .dataframe tbody tr th:only-of-type {\n",
       "        vertical-align: middle;\n",
       "    }\n",
       "\n",
       "    .dataframe tbody tr th {\n",
       "        vertical-align: top;\n",
       "    }\n",
       "\n",
       "    .dataframe thead th {\n",
       "        text-align: right;\n",
       "    }\n",
       "</style>\n",
       "<table border=\"1\" class=\"dataframe\">\n",
       "  <thead>\n",
       "    <tr style=\"text-align: right;\">\n",
       "      <th></th>\n",
       "      <th></th>\n",
       "      <th>contig</th>\n",
       "      <th>comlang_off</th>\n",
       "      <th>comlang_ethno</th>\n",
       "      <th>colony</th>\n",
       "      <th>comcol</th>\n",
       "      <th>curcol</th>\n",
       "      <th>col45</th>\n",
       "      <th>smctry</th>\n",
       "      <th>dist</th>\n",
       "      <th>distcap</th>\n",
       "      <th>distw</th>\n",
       "      <th>distwces</th>\n",
       "    </tr>\n",
       "    <tr>\n",
       "      <th>iso_o</th>\n",
       "      <th>iso_d</th>\n",
       "      <th></th>\n",
       "      <th></th>\n",
       "      <th></th>\n",
       "      <th></th>\n",
       "      <th></th>\n",
       "      <th></th>\n",
       "      <th></th>\n",
       "      <th></th>\n",
       "      <th></th>\n",
       "      <th></th>\n",
       "      <th></th>\n",
       "      <th></th>\n",
       "    </tr>\n",
       "  </thead>\n",
       "  <tbody>\n",
       "    <tr>\n",
       "      <th rowspan=\"5\" valign=\"top\">ABW</th>\n",
       "      <th>ABW</th>\n",
       "      <td>0</td>\n",
       "      <td>0</td>\n",
       "      <td>0</td>\n",
       "      <td>0</td>\n",
       "      <td>0</td>\n",
       "      <td>0</td>\n",
       "      <td>0</td>\n",
       "      <td>0</td>\n",
       "      <td>5.225315</td>\n",
       "      <td>5.225315</td>\n",
       "      <td>25.09354</td>\n",
       "      <td>23.04723</td>\n",
       "    </tr>\n",
       "    <tr>\n",
       "      <th>AFG</th>\n",
       "      <td>0</td>\n",
       "      <td>0</td>\n",
       "      <td>0</td>\n",
       "      <td>0</td>\n",
       "      <td>0</td>\n",
       "      <td>0</td>\n",
       "      <td>0</td>\n",
       "      <td>0</td>\n",
       "      <td>13257.810000</td>\n",
       "      <td>13257.810000</td>\n",
       "      <td>13168.22</td>\n",
       "      <td>13166.37</td>\n",
       "    </tr>\n",
       "    <tr>\n",
       "      <th>AGO</th>\n",
       "      <td>0</td>\n",
       "      <td>0</td>\n",
       "      <td>0</td>\n",
       "      <td>0</td>\n",
       "      <td>0</td>\n",
       "      <td>0</td>\n",
       "      <td>0</td>\n",
       "      <td>0</td>\n",
       "      <td>9516.913000</td>\n",
       "      <td>9516.913000</td>\n",
       "      <td>9587.316</td>\n",
       "      <td>9584.193</td>\n",
       "    </tr>\n",
       "    <tr>\n",
       "      <th>AIA</th>\n",
       "      <td>0</td>\n",
       "      <td>0</td>\n",
       "      <td>1</td>\n",
       "      <td>0</td>\n",
       "      <td>0</td>\n",
       "      <td>0</td>\n",
       "      <td>0</td>\n",
       "      <td>0</td>\n",
       "      <td>983.268200</td>\n",
       "      <td>983.268200</td>\n",
       "      <td>976.8974</td>\n",
       "      <td>976.8916</td>\n",
       "    </tr>\n",
       "    <tr>\n",
       "      <th>ALB</th>\n",
       "      <td>0</td>\n",
       "      <td>0</td>\n",
       "      <td>0</td>\n",
       "      <td>0</td>\n",
       "      <td>0</td>\n",
       "      <td>0</td>\n",
       "      <td>0</td>\n",
       "      <td>0</td>\n",
       "      <td>9091.742000</td>\n",
       "      <td>9091.742000</td>\n",
       "      <td>9091.576</td>\n",
       "      <td>9091.466</td>\n",
       "    </tr>\n",
       "  </tbody>\n",
       "</table>\n",
       "</div>"
      ],
      "text/plain": [
       "             contig  comlang_off  comlang_ethno  colony  comcol  curcol  \\\n",
       "iso_o iso_d                                                               \n",
       "ABW   ABW         0            0              0       0       0       0   \n",
       "      AFG         0            0              0       0       0       0   \n",
       "      AGO         0            0              0       0       0       0   \n",
       "      AIA         0            0              1       0       0       0   \n",
       "      ALB         0            0              0       0       0       0   \n",
       "\n",
       "             col45  smctry          dist       distcap     distw  distwces  \n",
       "iso_o iso_d                                                                 \n",
       "ABW   ABW        0       0      5.225315      5.225315  25.09354  23.04723  \n",
       "      AFG        0       0  13257.810000  13257.810000  13168.22  13166.37  \n",
       "      AGO        0       0   9516.913000   9516.913000  9587.316  9584.193  \n",
       "      AIA        0       0    983.268200    983.268200  976.8974  976.8916  \n",
       "      ALB        0       0   9091.742000   9091.742000  9091.576  9091.466  "
      ]
     },
     "execution_count": 16,
     "metadata": {},
     "output_type": "execute_result"
    }
   ],
   "source": [
    "c_dist = pd.read_csv('../resources/dist_cepii.csv', index_col=['iso_o', 'iso_d'])\n",
    "c_dist.head()"
   ]
  },
  {
   "cell_type": "code",
   "execution_count": 17,
   "metadata": {},
   "outputs": [
    {
     "data": {
      "text/plain": [
       "19951.16"
      ]
     },
     "execution_count": 17,
     "metadata": {},
     "output_type": "execute_result"
    }
   ],
   "source": [
    "c_dist['dist'].max()"
   ]
  },
  {
   "cell_type": "code",
   "execution_count": 20,
   "metadata": {},
   "outputs": [],
   "source": [
    "def alpha3_to_dist(c1, c2):\n",
    "    if c1 == c2:\n",
    "        return 0\n",
    "    return c_dist.loc[c1, c2]['dist']"
   ]
  },
  {
   "cell_type": "code",
   "execution_count": 21,
   "metadata": {},
   "outputs": [
    {
     "data": {
      "text/plain": [
       "6272.285"
      ]
     },
     "execution_count": 21,
     "metadata": {},
     "output_type": "execute_result"
    }
   ],
   "source": [
    "alpha3_to_dist('CHE', 'USA')"
   ]
  },
  {
   "cell_type": "code",
   "execution_count": 22,
   "metadata": {},
   "outputs": [],
   "source": [
    "def c_to_dist(c1, c2):\n",
    "    c1 = pyc.country_name_to_country_alpha3(c1)\n",
    "    c2 = pyc.country_name_to_country_alpha3(c2)\n",
    "    return alpha3_to_dist(c1, c2)"
   ]
  },
  {
   "cell_type": "code",
   "execution_count": 23,
   "metadata": {},
   "outputs": [
    {
     "data": {
      "text/plain": [
       "(204, 54)"
      ]
     },
     "execution_count": 23,
     "metadata": {},
     "output_type": "execute_result"
    }
   ],
   "source": [
    "recogni_c = []\n",
    "unknown_c = []\n",
    "for c in countries:\n",
    "    try:\n",
    "        pyc.country_name_to_country_alpha3(c)\n",
    "        recogni_c.append(c)\n",
    "    except KeyError:\n",
    "        unknown_c.append(c)\n",
    "        \n",
    "len(recogni_c), len(unknown_c)"
   ]
  },
  {
   "cell_type": "code",
   "execution_count": 24,
   "metadata": {},
   "outputs": [],
   "source": [
    "ing_to_country2 = {i:[c for c in cs if c in recogni_c] for i, cs in ing_to_country.items()}\n",
    "pickle.dump(ing_to_country2, open('../resources/ing_to_country2', 'wb'))"
   ]
  },
  {
   "cell_type": "code",
   "execution_count": 37,
   "metadata": {},
   "outputs": [],
   "source": [
    "alpha3_dist = pd.read_csv('../resources/dist_cepii.csv', index_col=['iso_o', 'iso_d'])[['dist']]\n",
    "alpha3_all = set(alpha3_dist.reset_index()['iso_o'].values)\n",
    "ing_to_country2 = pickle.load(open('../resources/ing_to_country2', 'rb'))\n",
    "def locality_score(i, c='Switzerland'):\n",
    "    max_dist = alpha3_dist['dist'].max()\n",
    "    to_alpha3 = lambda c: pyc.country_name_to_country_alpha3(c)\n",
    "    producers = [p for p in ing_to_country2[i] if to_alpha3(p) in alpha3_all]\n",
    "    if c in producers:\n",
    "        dist = 0\n",
    "    else:\n",
    "        distances = [alpha3_dist.loc[to_alpha3(c), to_alpha3(p)]['dist'] for p in producers]\n",
    "        if len(distances) == 0:\n",
    "            return -1\n",
    "        dist_idx = np.argmin(distances)\n",
    "        min_dist = distances[dist_idx]\n",
    "    return  1 - np.power(min_dist / max_dist, 0.6), producers[dist_idx]"
   ]
  },
  {
   "cell_type": "code",
   "execution_count": 46,
   "metadata": {},
   "outputs": [
    {
     "data": {
      "text/plain": [
       "(0.8991310509591338, 'France')"
      ]
     },
     "execution_count": 46,
     "metadata": {},
     "output_type": "execute_result"
    }
   ],
   "source": [
    "locality_score('olive')"
   ]
  },
  {
   "cell_type": "code",
   "execution_count": null,
   "metadata": {},
   "outputs": [],
   "source": []
  }
 ],
 "metadata": {
  "kernelspec": {
   "display_name": "Python 3",
   "language": "python",
   "name": "python3"
  },
  "language_info": {
   "codemirror_mode": {
    "name": "ipython",
    "version": 3
   },
   "file_extension": ".py",
   "mimetype": "text/x-python",
   "name": "python",
   "nbconvert_exporter": "python",
   "pygments_lexer": "ipython3",
   "version": "3.5.2"
  }
 },
 "nbformat": 4,
 "nbformat_minor": 2
}
