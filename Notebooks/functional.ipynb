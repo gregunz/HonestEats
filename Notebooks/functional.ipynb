{
 "cells": [
  {
   "cell_type": "code",
   "execution_count": 2,
   "metadata": {},
   "outputs": [],
   "source": [
    "import pickle"
   ]
  },
  {
   "cell_type": "code",
   "execution_count": 6,
   "metadata": {},
   "outputs": [],
   "source": [
    "replacements = pickle.load(open(\"ing_replacements.obj\", 'rb'))\n",
    "ing_coocs = pickle.load(open(\"ing_coocs.obj\", 'rb'))\n",
    "ing_indices = pickle.load(open(\"ing_indices.obj\", 'rb'))\n",
    "vocab = pickle.load(open(\"vocab.obj\", 'rb'))"
   ]
  },
  {
   "cell_type": "code",
   "execution_count": 8,
   "metadata": {},
   "outputs": [
    {
     "data": {
      "text/plain": [
       "{'oil': {'locality_score': True, 'substitutes': 'fat,lard'},\n",
       " 'chicken': {'locality_score': True,\n",
       "  'substitutes': 'turkey,fryer,turkey meat,pork steak,turkey drumstick,crab,loin,halibut,snapper,lean pork shoulder,sirloin steak'},\n",
       " 'onion': {'locality_score': True, 'substitutes': ''},\n",
       " 'carrot': {'locality_score': True, 'substitutes': 'vegetable,savory'},\n",
       " 'garlic': {'locality_score': True, 'substitutes': ''},\n",
       " 'rosemary': {'locality_score': True,\n",
       "  'substitutes': 'savory,herb,chardonnay,escarole,prune puree,sage,pinot noir wine,duck leg,rutabaga,wine,romano,cranberry bean,veal,chard,sauvignon blanc wine'},\n",
       " 'plain flour': {'locality_score': True, 'substitutes': 'farina,semolina'},\n",
       " 'white wine': {'locality_score': True,\n",
       "  'substitutes': 'tarragon,riesling,chardonnay,chervil,leek,artichoke,merlot,fennel bulb,chicken soup,marjoram'},\n",
       " 'chicken stock': {'locality_score': True,\n",
       "  'substitutes': 'broth,chicken soup,vegetable,clam juice,bouillon,fish stock'},\n",
       " 'potato': {'locality_score': True,\n",
       "  'substitutes': 'russet,hash brown,macaroni,elbow macaroni,cauliflower,leek'},\n",
       " 'green': {'locality_score': True,\n",
       "  'substitutes': 'arugula,romaine lettuce,endive,lettuce,radicchio,kale,spinach,sprout,avocado oil,grape,edamame'},\n",
       " 'parsley': {'locality_score': True, 'substitutes': 'elbow macaroni'}}"
      ]
     },
     "execution_count": 8,
     "metadata": {},
     "output_type": "execute_result"
    }
   ],
   "source": [
    "def locality_score(ing) :\n",
    "    return True;\n",
    "\n",
    "def lines_to_json(lines) :\n",
    "    ings = to_model_ings(lines)\n",
    "    json = dict()\n",
    "    for ing, line in zip(ings, lines) :\n",
    "                loc_score = locality_score(ing)\n",
    "        json[ing] = {\"locality_score\":loc_score, \"substitutes\":','.join([c[0] for c in replacements[ing]])}\n",
    "        \n",
    "    return json\n",
    "\n",
    "def ref(ing) :\n",
    "    matches = []\n",
    "    \n",
    "    #build matches using full name ingredients\n",
    "    for i in vocab :\n",
    "        if i in ing :\n",
    "            matches.append(i)\n",
    "                        \n",
    "    #sort matchings \n",
    "    matches = sorted(matches, key = lambda x : len(x.split(\" \")), reverse=True)\n",
    "    \n",
    "    max_len = len(matches[0].split(\" \"))    \n",
    "    matches = [m for m in matches if len(m.split(\" \")) == max_len]\n",
    "                  \n",
    "    m_occs = [(m, ing_coocs[ing_indices[m], ing_indices[m]]) for m in matches]\n",
    "    return sorted(m_occs, key=lambda x : x[1], reverse=True)[0][0]\n",
    "    #return matches[0]\n",
    "\n",
    "def to_model_ings(ings) :\n",
    "    return [ref(i) for i in ings]\n",
    "        \n",
    "jo_ings = [\"olive oil\", \n",
    "           \"1 x 1.5 kg whole free-range chicken\", \n",
    "           \"4 onions\", \n",
    "           \"4 carrots\", \n",
    "           \"2 cloves of garlic\", \n",
    "           \"½ a bunch of fresh rosemary\", \n",
    "           \"1 heaped tablespoon plain flour\",\n",
    "           \"300 ml white wine\",\n",
    "           \"200 ml organic chicken stock\",\n",
    "           \"600 g potatoes\",\n",
    "           \"2 handfuls of red and green grapes\",\n",
    "           \"a few sprigs of fresh flat-leaf parsley\"\n",
    "          ]\n",
    "\n",
    "lines_to_json(jo_ings)"
   ]
  },
  {
   "cell_type": "code",
   "execution_count": null,
   "metadata": {},
   "outputs": [],
   "source": []
  }
 ],
 "metadata": {
  "kernelspec": {
   "display_name": "Python 3",
   "language": "python",
   "name": "python3"
  },
  "language_info": {
   "codemirror_mode": {
    "name": "ipython",
    "version": 3
   },
   "file_extension": ".py",
   "mimetype": "text/x-python",
   "name": "python",
   "nbconvert_exporter": "python",
   "pygments_lexer": "ipython3",
   "version": "3.6.7"
  }
 },
 "nbformat": 4,
 "nbformat_minor": 2
}
